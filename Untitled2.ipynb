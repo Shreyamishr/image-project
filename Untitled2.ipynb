{
  "nbformat": 4,
  "nbformat_minor": 0,
  "metadata": {
    "colab": {
      "provenance": []
    },
    "kernelspec": {
      "name": "python3",
      "display_name": "Python 3"
    },
    "language_info": {
      "name": "python"
    }
  },
  "cells": [
    {
      "cell_type": "code",
      "execution_count": 1,
      "metadata": {
        "id": "aBHWHKbYxN3I"
      },
      "outputs": [],
      "source": [
        "import pandas as pd\n",
        "import numpy as np\n",
        "from skimage import io\n",
        "from skimage import util\n",
        "import matplotlib.pyplot as plt"
      ]
    },
    {
      "cell_type": "code",
      "source": [
        "#horizontal flip\n",
        "def func1():\n",
        "    temp=np_image[:,::-1]\n",
        "    plt.imshow(temp)"
      ],
      "metadata": {
        "id": "ySC55TyDxgCq"
      },
      "execution_count": 2,
      "outputs": []
    },
    {
      "cell_type": "code",
      "source": [
        "#vertical flip\n",
        "def func2():\n",
        "    temp=np_image[::-1,:]\n",
        "    plt.imshow(temp)"
      ],
      "metadata": {
        "id": "10_7AH-vxk6i"
      },
      "execution_count": 3,
      "outputs": []
    },
    {
      "cell_type": "code",
      "source": [
        "#for inversion\n",
        "def func3():\n",
        "    temp=util.invert(np_image)\n",
        "    plt.imshow(temp)"
      ],
      "metadata": {
        "id": "EtO2OVfHxpSJ"
      },
      "execution_count": 4,
      "outputs": []
    },
    {
      "cell_type": "code",
      "source": [
        "#for grayscale\n",
        "def func4():\n",
        "    temp=io.imread('img1.jpg',as_gray=True)\n",
        "    plt.imshow(temp)"
      ],
      "metadata": {
        "id": "C_kgDbxJxu5N"
      },
      "execution_count": 5,
      "outputs": []
    },
    {
      "cell_type": "code",
      "source": [
        "print(\"Welcome to the mini-project\")\n",
        "t=1\n",
        "while t:\n",
        "    print(\"Enter your choices\")\n",
        "    print(\"1: for image loading \\n 2: for editing \\n 3 for saving\\n 4: for exit\")\n",
        "    choice=int(input(\"Enter your choice:\"))\n",
        "    if choice == 1:\n",
        "        np_image=io.imread('img1.jpg')\n",
        "        plt.imshow(np_image)\n",
        "    elif choice == 2:\n",
        "        print(\"How you want to edit\\n 1 for hor flip\\n 2 for vertical flip \\n 3 for invert colors\\n 4 for grayscale\\n 5 for black ans white\\n\")\n",
        "        fin=int(input(\"Enter your choice:\"))\n",
        "        if fin==1:\n",
        "            func1()\n",
        "        elif fin==2:\n",
        "            func2()\n",
        "        elif fin==3:\n",
        "            func3()\n",
        "        elif fin==4:\n",
        "            func4()\n",
        "        else:\n",
        "            continue\n",
        "    elif choice == 3:\n",
        "        print(\"Image is saved\")\n",
        "    else:\n",
        "        t=0"
      ],
      "metadata": {
        "colab": {
          "base_uri": "https://localhost:8080/"
        },
        "id": "vGrt1FNxxzet",
        "outputId": "aa705eb7-7a49-4192-dcd8-68fe76c60a1a"
      },
      "execution_count": null,
      "outputs": [
        {
          "output_type": "stream",
          "name": "stdout",
          "text": [
            "Welcome to the mini-project\n",
            "Enter your choices\n",
            "1: for image loading \n",
            " 2: for editing \n",
            " 3 for saving\n",
            " 4: for exit\n"
          ]
        }
      ]
    }
  ]
}